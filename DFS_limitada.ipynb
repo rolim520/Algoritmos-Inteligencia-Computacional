{
 "cells": [
  {
   "cell_type": "code",
   "execution_count": null,
   "metadata": {},
   "outputs": [],
   "source": [
    "# Exibe o grafo do arquivo graph.txt\n",
    "from functions import visualizar_grafo\n",
    "visualizar_grafo(\"graph.txt\")"
   ]
  },
  {
   "cell_type": "code",
   "execution_count": 34,
   "metadata": {},
   "outputs": [
    {
     "name": "stdout",
     "output_type": "stream",
     "text": [
      "Produndidade da Solução:  5\n",
      "Descobertos:  ['G', 'F', 'H', 'J', 'K', 'A', 'I', 'B', 'C', 'D', 'L', 'M', 'N', 'P', 'Q', 'O', 'R', 'S']\n"
     ]
    }
   ],
   "source": [
    "from functions import *\n",
    "np.set_printoptions(threshold=np.inf)\n",
    "\n",
    "# Utiliza ordem alfabetica para descoberta dos nós\n",
    "def DFS_limitada(inicial, final, matriz_adj, limite=np.inf):\n",
    "    # Obs.: Os nós descobertos não estão sendo revisitados por isso a profundidade 4 falha\n",
    "\n",
    "    descobertos = []\n",
    "    # Pilha de vertices a serem explorados\n",
    "    pilha = []\n",
    "    # Dicionaro com a profundidade de cada vertice\n",
    "    profundidade = dict()\n",
    "    \n",
    "    # Descobre o vertice inicial e o adiciona na pilha para ser explorado\n",
    "    descobertos.append(inicial-1)\n",
    "    pilha.append(inicial-1)\n",
    "    profundidade[inicial-1] = 0 # Profundidade de vertice inicial é zero\n",
    "\n",
    "    if inicial > len(matriz_adj) or final > len(matriz_adj):\n",
    "        print(\"Vertice inicial ou final não existe no grafo\")\n",
    "        return []\n",
    "    while True:\n",
    "        # Obtem o primeiro item da pilha\n",
    "        v = pilha.pop()\n",
    "        # Obtém os vizinhos do vertice v\n",
    "        if profundidade[v] + 1 <= limite:\n",
    "            vizinhos = [i for i in obter_vizinhos(v, matriz_adj) if i not in descobertos]\n",
    "            for vizinho in vizinhos:\n",
    "                # Descobre cada vizinho\n",
    "                descobertos.append(vizinho)\n",
    "                profundidade[vizinho] = profundidade[v] + 1\n",
    "                if vizinho == final-1:\n",
    "                    print(\"Produndidade da Solução: \", profundidade[final-1])\n",
    "                    return descobertos\n",
    "            # Adiciona a lista de vizinhos em ordem inversa na pilha\n",
    "            pilha += vizinhos[::-1]\n",
    "        if len(pilha) == 0:\n",
    "            print(\"Sem solução!\")\n",
    "            return descobertos\n",
    "\n",
    "matriz_adj = gerar_matriz_adjacente(\"graph.txt\")\n",
    "inicial, final = letter_to_int(\"G\"), letter_to_int(\"S\") # Retorna o número correspondente a ordem alfabética\n",
    "\n",
    "descobertos = DFS_limitada(inicial, final, matriz_adj, limite=5)\n",
    "\n",
    "imprimir_resultado(descobertos, usarLetras=True)"
   ]
  }
 ],
 "metadata": {
  "kernelspec": {
   "display_name": "Python 3",
   "language": "python",
   "name": "python3"
  },
  "language_info": {
   "codemirror_mode": {
    "name": "ipython",
    "version": 3
   },
   "file_extension": ".py",
   "mimetype": "text/x-python",
   "name": "python",
   "nbconvert_exporter": "python",
   "pygments_lexer": "ipython3",
   "version": "3.10.11"
  }
 },
 "nbformat": 4,
 "nbformat_minor": 2
}
