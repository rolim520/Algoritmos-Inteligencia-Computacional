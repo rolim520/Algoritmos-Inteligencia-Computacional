{
 "cells": [
  {
   "cell_type": "code",
   "execution_count": null,
   "metadata": {},
   "outputs": [],
   "source": [
    "# Exibe o grafo do arquivo graph.txt\n",
    "from functions import visualizar_grafo\n",
    "visualizar_grafo(\"grafo.txt\")"
   ]
  },
  {
   "cell_type": "code",
   "execution_count": null,
   "metadata": {},
   "outputs": [],
   "source": [
    "from functions import *\n",
    "np.set_printoptions(threshold=np.inf)\n",
    "\n",
    "# Utiliza ordem alfabetica para descoberta dos nós\n",
    "def gulosa(inicial, final, matriz_adj):\n",
    "    descobertos = []\n",
    "    # Conjunto de vertices que não foram explorados\n",
    "    abertos = []\n",
    "    distancia = dict()\n",
    "    pais = dict()\n",
    "\n",
    "    # Adiciona todos os vertices no conjunto de abertos\n",
    "    for vertice in range(len(matriz_adj)):\n",
    "        if conexo_ao_grafo(vertice, matriz_adj):\n",
    "            abertos.append(vertice)\n",
    "            distancia[vertice] = np.inf\n",
    "    if len(matriz_adj) != len(abertos):\n",
    "        print(\"O grafo possui vértices desconexos\")\n",
    "\n",
    "    # Descobre o vertice inicial e zera sua distancia\n",
    "    descobertos.append(inicial-1)\n",
    "    distancia[inicial-1] = 0\n",
    "\n",
    "    if inicial > len(matriz_adj) or final > len(matriz_adj):\n",
    "        print(\"Vertice inicial ou final não existe no grafo\")\n",
    "        return []\n",
    "    while len(abertos) != 0:\n",
    "        # print(\"Abertos: \", list(map(int_to_letter, list(map(lambda x: x+1, abertos)))))\n",
    "        # print(\"Distancias: \", [f\"{int_to_letter(i+1)}: {distancia[i]}\" for i in distancia if i in abertos])\n",
    "        v = abertos.pop(obter_indice_menor_distancia(abertos, distancia))\n",
    "        # print(\"Escolhido: \", int_to_letter(v+1))\n",
    "        # Obtém os vizinhos do vertice v\n",
    "        vizinhos = [i for i in obter_vizinhos(v, matriz_adj) if i in abertos]\n",
    "        # print(\"Vizinhos :\", list(map(int_to_letter, list(map(lambda x: x+1, vizinhos)))))\n",
    "\n",
    "        for vizinho in vizinhos:\n",
    "            # Descobre cada vizinho e os adiciona na fila para serem explorados\n",
    "            descobertos.append(vizinho)\n",
    "            if distancia[v] + matriz_adj[v][vizinho] < distancia[vizinho]:\n",
    "                distancia[vizinho] = distancia[v] + matriz_adj[v][vizinho]\n",
    "                pais[vizinho] = v\n",
    "        # print(\"Descobertos: \", list(map(int_to_letter, list(map(lambda x: x+1, descobertos[::-1])))))\n",
    "    # print(f\"Distância da Solução: {distancia[final-1]}\")\n",
    "    return incrementar(descobertos), incrementar(pais)\n",
    "\n",
    "matriz_adj = gerar_matriz_adjacente(\"grafo.txt\")\n",
    "inicial, final = letter_to_int(\"G\"), letter_to_int(\"S\") # Retorna o número correspondente a ordem alfabética\n",
    "\n",
    "descobertos, pais = gulosa(inicial, final, matriz_adj)\n",
    "\n",
    "imprimir_resultado(descobertos, usarLetras=True)"
   ]
  }
 ],
 "metadata": {
  "language_info": {
   "name": "python"
  }
 },
 "nbformat": 4,
 "nbformat_minor": 2
}
